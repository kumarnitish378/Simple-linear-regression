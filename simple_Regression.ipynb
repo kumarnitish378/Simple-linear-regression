{
 "cells": [
  {
   "cell_type": "code",
   "execution_count": 1,
   "metadata": {},
   "outputs": [
    {
     "name": "stdout",
     "output_type": "stream",
     "text": [
      "regression\n"
     ]
    }
   ],
   "source": [
    "print(\"regression\")\n",
    "import time"
   ]
  },
  {
   "cell_type": "code",
   "execution_count": 2,
   "metadata": {},
   "outputs": [],
   "source": [
    "import pandas as pd\n",
    "import numpy as np\n",
    "import matplotlib.pyplot as plt\n",
    "from sklearn import linear_model"
   ]
  },
  {
   "cell_type": "code",
   "execution_count": 3,
   "metadata": {},
   "outputs": [],
   "source": [
    "df = pd.read_csv(r'F:\\Homeprice.csv')"
   ]
  },
  {
   "cell_type": "code",
   "execution_count": 4,
   "metadata": {},
   "outputs": [
    {
     "data": {
      "text/plain": [
       "<matplotlib.collections.PathCollection at 0x2906350f208>"
      ]
     },
     "execution_count": 4,
     "metadata": {},
     "output_type": "execute_result"
    },
    {
     "data": {
      "image/png": "[encoded data removed]",
      "text/plain": [
       "<Figure size 432x288 with 1 Axes>"
      ]
     },
     "metadata": {
      "needs_background": "light"
     },
     "output_type": "display_data"
    }
   ],
   "source": [
    "# %matplotlib inline\n",
    "plt.xlabel(\"area\")\n",
    "plt.ylabel(\"price\")\n",
    "plt.scatter(df.Area, df.price, color = 'red')"
   ]
  },
  {
   "cell_type": "code",
   "execution_count": 5,
   "metadata": {},
   "outputs": [
    {
     "data": {
      "text/plain": [
       "LinearRegression(copy_X=True, fit_intercept=True, n_jobs=None, normalize=False)"
      ]
     },
     "execution_count": 5,
     "metadata": {},
     "output_type": "execute_result"
    }
   ],
   "source": [
    "rg = linear_model.LinearRegression() #creat object\n",
    "# rg.fit(df[['Area']],df[['price']]) #Training\n",
    "rg.fit(df[['Area']], df.price)"
   ]
  },
  {
   "cell_type": "code",
   "execution_count": 6,
   "metadata": {},
   "outputs": [
    {
     "name": "stdout",
     "output_type": "stream",
     "text": [
      "[11, -39, -29, -19, -9, 1, 11, 41, 51, 21, 61, 31]\n"
     ]
    },
    {
     "data": {
      "image/png": "[encoded data removed]",
      "text/plain": [
       "<Figure size 432x288 with 1 Axes>"
      ]
     },
     "metadata": {
      "needs_background": "light"
     },
     "output_type": "display_data"
    }
   ],
   "source": [
    "x = [1,-4,-3,-2,-1,0,1,4,5,2,6,3]\n",
    "m = 10\n",
    "c = 1\n",
    "Y =[]\n",
    "for i in x:\n",
    "    y = m*i + c\n",
    "    Y.append(y)\n",
    "print(Y)\n",
    "plt.scatter(x, Y, color = 'red', marker = \">\")\n",
    "plt.plot(x,Y)\n",
    "plt.show()"
   ]
  },
  {
   "cell_type": "code",
   "execution_count": 7,
   "metadata": {},
   "outputs": [
    {
     "name": "stdout",
     "output_type": "stream",
     "text": [
      "-6.15\n",
      "-17.450000000000003\n"
     ]
    },
    {
     "data": {
      "text/plain": [
       "<matplotlib.collections.PathCollection at 0x2906393b608>"
      ]
     },
     "execution_count": 7,
     "metadata": {},
     "output_type": "execute_result"
    },
    {
     "data": {
      "image/png": "[encoded data removed]",
      "text/plain": [
       "<Figure size 720x360 with 1 Axes>"
      ]
     },
     "metadata": {
      "needs_background": "light"
     },
     "output_type": "display_data"
    }
   ],
   "source": [
    "x = [1,-4,-3,-2,-1,0,1,4,5,2,6,3]\n",
    "y = [2,5,8,-2,5,3,-5,9,-7,6,1,-8]\n",
    "col = [\"red\",\"green\",\"blue\",\"black\",\"#125487\"]\n",
    "M =[]\n",
    "slop = []\n",
    "for c in range(5):\n",
    "    for i in range(len(x)):\n",
    "        try: \n",
    "            m = (y[i]-c)/x[i]\n",
    "        except:\n",
    "            m = 0\n",
    "        # print(\"{} - {} / {} = {}\".format(y[i],c,x[i],m))\n",
    "        M.append(m)\n",
    "        plt.rcParams[\"figure.figsize\"] = (10,5)\n",
    "        plt.scatter(x[i],m,color = col[c] ,marker=\",\")\n",
    "    sum = 0\n",
    "    for j in M:\n",
    "        sum = sum+j\n",
    "    slop.append(sum/2)\n",
    "    M=[]\n",
    "avg = 0\n",
    "for i in slop:\n",
    "    avg = avg+i\n",
    "avg = avg/len(slop)\n",
    "print(avg)\n",
    "\n",
    "# prediction\n",
    "x = 3\n",
    "y = (avg*x) + 1\n",
    "print(y)\n",
    "plt.scatter(x,y, marker = '*')"
   ]
  },
  {
   "cell_type": "code",
   "execution_count": 8,
   "metadata": {},
   "outputs": [
    {
     "data": {
      "text/plain": [
       "(50.0, 24.0)"
      ]
     },
     "execution_count": 8,
     "metadata": {},
     "output_type": "execute_result"
    }
   ],
   "source": [
    "# Linear regression\n",
    "\n",
    "# x = [2,4,6,8,10,12,14,16,18,20]\n",
    "# y = [20,40,20,40,20,40,20,40,20,40]\n",
    "x = [10,20,30,40,50,60,70,80,90]\n",
    "y = [20,21,22,23,24,25,26,27,28]\n",
    "\n",
    "# step-1 calculate all the nccessary term\n",
    "\n",
    "def mean(x,y): # return mean of x and y.\n",
    "    x_bar = 0\n",
    "    y_bar = 0\n",
    "    for i in x:\n",
    "        x_bar = x_bar+i\n",
    "    for i in y:\n",
    "        y_bar = y_bar+i\n",
    "    return x_bar/len(x), y_bar/len(y) \n",
    "\n",
    "def x_com(x,x_bar): #return x-x_bar list\n",
    "    temp = []\n",
    "    for i in x:\n",
    "        temp.append(i-x_bar[0])\n",
    "    return temp\n",
    "\n",
    "def y_com(y,y_bar): #return y-y_bar list\n",
    "    temp = []\n",
    "    for i in y:\n",
    "        temp.append(i-y_bar[1])\n",
    "    return temp\n",
    "\n",
    "def sum_x(x): #return sum of x\n",
    "    sum1 = 0\n",
    "    for i in x:\n",
    "        sum1 = sum1+i\n",
    "    return sum1\n",
    "\n",
    "def sum_y(y): #return sum of y\n",
    "    sum1 = 0\n",
    "    for i in y:\n",
    "        sum1 = sum1+i\n",
    "    return sum1\n",
    "\n",
    "x_m = x_com(x,mean(x,y))\n",
    "y_m = y_com(y,mean(x,y))\n",
    "\n",
    "def Sum_of_XY(x_m,y_m):\n",
    "    sx = 0\n",
    "    for i in range(len(x_m)):\n",
    "        sx += x_m[i]*y_m[i]\n",
    "    return sx\n",
    "def squre_of_x_m(x_m):\n",
    "    s = 0\n",
    "    for i in x_m:\n",
    "        s += i*i\n",
    "    return s\n",
    "\n",
    "def squre_of_y_m(y_m):\n",
    "    s = 0\n",
    "    for i in y_m:\n",
    "        s += i*i\n",
    "    return s\n",
    "    \n",
    "mean(x, y)\n",
    "# print(Sum_of_XY(x_m,y_m))\n",
    "# print(squre_of_y_m(y_m))"
   ]
  },
  {
   "cell_type": "code",
   "execution_count": 9,
   "metadata": {},
   "outputs": [],
   "source": [
    "import math"
   ]
  },
  {
   "cell_type": "code",
   "execution_count": 10,
   "metadata": {},
   "outputs": [],
   "source": [
    "# step 2, coreletion coficient\n",
    "\n",
    "def cor():\n",
    "    r = Sum_of_XY(x_m,y_m)/(math.sqrt(squre_of_x_m(x_m)*squre_of_y_m(y_m)))\n",
    "    return r\n",
    "# cor()"
   ]
  },
  {
   "cell_type": "code",
   "execution_count": 11,
   "metadata": {},
   "outputs": [],
   "source": [
    "#step-3,  calculate Sy and Sx\n",
    "def sy():\n",
    "    Sy = math.sqrt(squre_of_y_m(y_m)/(len(y)-1))\n",
    "    return Sy\n",
    "# sy()\n",
    "def sx():\n",
    "    Sx = math.sqrt(squre_of_y_m(x_m)/(len(x)-1))\n",
    "    return Sx\n",
    "# sx()"
   ]
  },
  {
   "cell_type": "code",
   "execution_count": 12,
   "metadata": {},
   "outputs": [],
   "source": [
    "# step-4 calculate slop\n",
    "\n",
    "def slop():\n",
    "    b = cor()*(sy()/sx())\n",
    "    return b\n",
    "# print(slop())\n",
    "def intercept():\n",
    "    a = (mean(x,y))[1]-slop()*(mean(x,y))[0]\n",
    "    return a\n",
    "# intercept()"
   ]
  },
  {
   "cell_type": "code",
   "execution_count": 13,
   "metadata": {},
   "outputs": [],
   "source": [
    "# # prediction of data\n",
    "# a = intercept()\n",
    "# b = slop()\n",
    "# plt.rcParams[\"figure.figsize\"] = (20,10)\n",
    "# plt.scatter(x,y,color = 'red')\n",
    "# ss = [] # actul-predicted value\n",
    "# for i in range (len(x)):\n",
    "#     c = a + b*x[i]\n",
    "#     bb = y[i]-c\n",
    "#     ss.append(bb)\n",
    "#     plt.scatter(x[i],c,color = 'green',marker = '<')\n",
    "#     plt.grid()\n",
    "# print(ss) # actul-predicted value\n",
    "# data = int(input(\"number \"))\n",
    "# c = a + b*data\n",
    "# print(c)\n",
    "# # cost function\n",
    "# Sum = 0\n",
    "# for i in ss:\n",
    "#     Sum = i*i\n",
    "# print(\"RMSE = \",math.sqrt((Sum/len(x)))) # root mean squre error matrix\n",
    "# RMSE =Sum\n",
    "# Ro = 0.001\n",
    "# while a > 0.008815426997521025:\n",
    "#     a = a - (Ro*RMSE)\n",
    "# c = a + b*data\n",
    "# print(c)"
   ]
  },
  {
   "cell_type": "code",
   "execution_count": 14,
   "metadata": {},
   "outputs": [
    {
     "name": "stdout",
     "output_type": "stream",
     "text": [
      "actual 20 , predicted 20.0 \n",
      "actual 21 , predicted 21.0 \n",
      "actual 22 , predicted 22.0 \n",
      "actual 23 , predicted 23.0 \n",
      "actual 24 , predicted 24.0 \n",
      "actual 25 , predicted 25.0 \n",
      "actual 26 , predicted 26.0 \n",
      "actual 27 , predicted 27.0 \n",
      "actual 28 , predicted 28.0 \n"
     ]
    }
   ],
   "source": [
    "a = intercept()\n",
    "b = slop()\n",
    "# plt.rcParams[\"figure.figsize\"] = (20,10)\n",
    "# plt.scatter(x,y,color = 'red')\n",
    "y_predict = [] # actul-predicted value\n",
    "for i in range (len(x)):\n",
    "    y_pred = a + b*x[i]\n",
    "    y_predict.append(y_pred)\n",
    "    print(\"actual {} , predicted {} \".format(y[i],y_pred))"
   ]
  },
  {
   "cell_type": "code",
   "execution_count": null,
   "metadata": {},
   "outputs": [],
   "source": []
  },
  {
   "cell_type": "code",
   "execution_count": null,
   "metadata": {},
   "outputs": [],
   "source": []
  }
 ],
 "metadata": {
  "kernelspec": {
   "display_name": "Python 3",
   "language": "python",
   "name": "python3"
  },
  "language_info": {
   "codemirror_mode": {
    "name": "ipython",
    "version": 3
   },
   "file_extension": ".py",
   "mimetype": "text/x-python",
   "name": "python",
   "nbconvert_exporter": "python",
   "pygments_lexer": "ipython3",
   "version": "3.7.4"
  }
 },
 "nbformat": 4,
 "nbformat_minor": 2
}
